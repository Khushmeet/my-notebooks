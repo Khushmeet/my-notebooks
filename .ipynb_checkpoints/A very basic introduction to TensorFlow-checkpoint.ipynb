{
 "cells": [
  {
   "cell_type": "markdown",
   "metadata": {},
   "source": [
    "# A Very basic introduction to TensorFlow"
   ]
  },
  {
   "cell_type": "markdown",
   "metadata": {},
   "source": [
    "**TensorFlow** is a new open source **Machine Learning** library from Google. It was released in novenber 2015 and is now one of the most popular library with 10k+ stars on github. It is used in various commercial products within google. It is successor to the **DistBelief** system craeted by the Google Brain team. It is released under Apache 2.0 open source license."
   ]
  },
  {
   "cell_type": "markdown",
   "metadata": {},
   "source": [
    "<img src=\"images/tensorflow.png\"/>"
   ]
  },
  {
   "cell_type": "markdown",
   "metadata": {},
   "source": [
    "**TensorFlow** works on the concept of **Computational Graph**. Computational Graph consists of **nodes** and **edges** and the data that flows in the graph is called a **Tensor**. Tensor is an n-dimensional array. Tensor flows through the directed edges towards nodes. Each node in the graph is an **operation node** also known as **op** for short. Each node manipulates the tensor hence known as operation node. Many Op nodes are provided by tensorflow such as **matmul( )**, **add( )**, **reshape( )** etc. Tensorflow API is available in Python and C++."
   ]
  },
  {
   "cell_type": "markdown",
   "metadata": {},
   "source": [
    "<img src=\"images/TensorFlow-graph1.jpg\"/>"
   ]
  },
  {
   "cell_type": "code",
   "execution_count": 1,
   "metadata": {
    "collapsed": true
   },
   "outputs": [],
   "source": [
    "# to start with tensorflow, import tensorflow\n",
    "# numpy needed for structing data in a suitable format for tensorflow\n",
    "import tensorflow as tf\n",
    "import numpy as np"
   ]
  },
  {
   "cell_type": "markdown",
   "metadata": {},
   "source": [
    "In tensorflow every thing is an Op, from variable to matmul. Tensorflow creates a default graph. Every Op defined gets appended to this default graph.\n",
    "For a very basic problem in tensorflow, we will be doing matrix multiplication."
   ]
  },
  {
   "cell_type": "code",
   "execution_count": 2,
   "metadata": {
    "collapsed": false
   },
   "outputs": [],
   "source": [
    "#define constants\n",
    "#since we are not sending data on the execution of the graph\n",
    "# no object is initailized until the tf.Session() is run\n",
    "x = tf.constant(np.array([[1,5,2,7],[6,8,9,2]]),dtype='float64')\n",
    "y = tf.constant(np.array([[2,3],[6,3],[7,0],[4,1]]),dtype='float64')"
   ]
  },
  {
   "cell_type": "code",
   "execution_count": 3,
   "metadata": {
    "collapsed": false
   },
   "outputs": [],
   "source": [
    "#defining predefined matrix multiplication Op\n",
    "output = tf.matmul(x,y)"
   ]
  },
  {
   "cell_type": "markdown",
   "metadata": {},
   "source": [
    "**tf.Session** object encapsulates the environment in which Operation objects are executed, and Tensor objects are evaluated. Tensorflow graph always run inside a Session.\n",
    "But we will use **tf.InteractiveSession( )**"
   ]
  },
  {
   "cell_type": "code",
   "execution_count": 4,
   "metadata": {
    "collapsed": true
   },
   "outputs": [],
   "source": [
    "#TInteractiveSession is for IPython notebooks, as it avoids having to pass an explicit Session object to run ops.\n",
    "sess = tf.InteractiveSession()\n",
    "#sess has started with the default graph"
   ]
  },
  {
   "cell_type": "code",
   "execution_count": 5,
   "metadata": {
    "collapsed": false
   },
   "outputs": [
    {
     "name": "stdout",
     "output_type": "stream",
     "text": [
      "[[  74.   25.]\n",
      " [ 131.   44.]]\n"
     ]
    }
   ],
   "source": [
    "# we use eval() or sess.run(output) with InteractiveSession\n",
    "print(output.eval())"
   ]
  },
  {
   "cell_type": "code",
   "execution_count": 6,
   "metadata": {
    "collapsed": true
   },
   "outputs": [],
   "source": [
    "# close the session to free the resources\n",
    "sess.close()"
   ]
  },
  {
   "cell_type": "markdown",
   "metadata": {},
   "source": [
    "With non interactive environments we use **tf.Session( )** and instead of eval( ) we use **sess.run( )**."
   ]
  },
  {
   "cell_type": "markdown",
   "metadata": {},
   "source": [
    "Now going for a little more advance example, we will b using placeholder to input data during session."
   ]
  },
  {
   "cell_type": "code",
   "execution_count": 7,
   "metadata": {
    "collapsed": false
   },
   "outputs": [],
   "source": [
    "# tf.float64 is tensorflow type to specify what type of data placeholder(X) will be expecting\n",
    "# shape is optional, determines what placeholder is expecting in terms of size of data\n",
    "x = tf.placeholder(tf.float64,shape=(5,5))\n",
    "y = tf.placeholder(tf.float64,shape=(5,5))\n",
    "bt = tf.ones_like(x,tf.float64)\n",
    "\n",
    "output = tf.add(tf.matmul(x,bt),y)"
   ]
  },
  {
   "cell_type": "code",
   "execution_count": 8,
   "metadata": {
    "collapsed": false
   },
   "outputs": [],
   "source": [
    "# getting some values ready for placeholders\n",
    "x_input = np.random.normal(0,0.5,(5,5))\n",
    "y_input = np.random.normal(1,0.7,(5,5))"
   ]
  },
  {
   "cell_type": "code",
   "execution_count": 9,
   "metadata": {
    "collapsed": false
   },
   "outputs": [],
   "source": [
    "# starting the session\n",
    "sess = tf.InteractiveSession()"
   ]
  },
  {
   "cell_type": "code",
   "execution_count": 10,
   "metadata": {
    "collapsed": false
   },
   "outputs": [
    {
     "data": {
      "text/plain": [
       "array([[ 1.06867978,  1.07327464,  0.85670328,  1.49732307,  0.64957662],\n",
       "       [ 0.96720121,  1.29427214,  1.37160232,  2.48218911,  1.9132339 ],\n",
       "       [ 2.55093114,  1.27649635,  1.72226973,  1.80037972,  2.501536  ],\n",
       "       [-0.6353592 ,  1.07428075, -1.1952593 ,  0.34658242, -0.51789442],\n",
       "       [ 0.19050942,  0.70645246,  1.56447268,  0.8851274 ,  0.83897996]])"
      ]
     },
     "execution_count": 10,
     "metadata": {},
     "output_type": "execute_result"
    }
   ],
   "source": [
    "# we input x_input and y_input to the x and y placeholders\n",
    "sess.run(output,feed_dict={x:x_input,y:y_input})"
   ]
  },
  {
   "cell_type": "code",
   "execution_count": 11,
   "metadata": {
    "collapsed": true
   },
   "outputs": [],
   "source": [
    "sess.close()"
   ]
  },
  {
   "cell_type": "code",
   "execution_count": 12,
   "metadata": {
    "collapsed": false
   },
   "outputs": [
    {
     "name": "stdout",
     "output_type": "stream",
     "text": [
      "Once deleted, variables cannot be recovered. Proceed (y/[n])? y\n"
     ]
    }
   ],
   "source": [
    "%reset"
   ]
  },
  {
   "cell_type": "markdown",
   "metadata": {
    "collapsed": true
   },
   "source": [
    "## Linear Regression in tensorflow"
   ]
  },
  {
   "cell_type": "code",
   "execution_count": 13,
   "metadata": {
    "collapsed": true
   },
   "outputs": [],
   "source": [
    "#IPython magic command\n",
    "%matplotlib inline\n",
    "from IPython.display import display\n",
    "import tensorflow as tf\n",
    "import numpy as np\n",
    "import matplotlib.pyplot as plt"
   ]
  },
  {
   "cell_type": "code",
   "execution_count": 14,
   "metadata": {
    "collapsed": false
   },
   "outputs": [
    {
     "data": {
      "text/plain": [
       "array([-1.        , -0.97979798, -0.95959596, -0.93939394, -0.91919192,\n",
       "       -0.8989899 , -0.87878788, -0.85858586, -0.83838384, -0.81818182,\n",
       "       -0.7979798 , -0.77777778, -0.75757576, -0.73737374, -0.71717172,\n",
       "       -0.6969697 , -0.67676768, -0.65656566, -0.63636364, -0.61616162,\n",
       "       -0.5959596 , -0.57575758, -0.55555556, -0.53535354, -0.51515152,\n",
       "       -0.49494949, -0.47474747, -0.45454545, -0.43434343, -0.41414141,\n",
       "       -0.39393939, -0.37373737, -0.35353535, -0.33333333, -0.31313131,\n",
       "       -0.29292929, -0.27272727, -0.25252525, -0.23232323, -0.21212121,\n",
       "       -0.19191919, -0.17171717, -0.15151515, -0.13131313, -0.11111111,\n",
       "       -0.09090909, -0.07070707, -0.05050505, -0.03030303, -0.01010101,\n",
       "        0.01010101,  0.03030303,  0.05050505,  0.07070707,  0.09090909,\n",
       "        0.11111111,  0.13131313,  0.15151515,  0.17171717,  0.19191919,\n",
       "        0.21212121,  0.23232323,  0.25252525,  0.27272727,  0.29292929,\n",
       "        0.31313131,  0.33333333,  0.35353535,  0.37373737,  0.39393939,\n",
       "        0.41414141,  0.43434343,  0.45454545,  0.47474747,  0.49494949,\n",
       "        0.51515152,  0.53535354,  0.55555556,  0.57575758,  0.5959596 ,\n",
       "        0.61616162,  0.63636364,  0.65656566,  0.67676768,  0.6969697 ,\n",
       "        0.71717172,  0.73737374,  0.75757576,  0.77777778,  0.7979798 ,\n",
       "        0.81818182,  0.83838384,  0.85858586,  0.87878788,  0.8989899 ,\n",
       "        0.91919192,  0.93939394,  0.95959596,  0.97979798,  1.        ])"
      ]
     },
     "metadata": {},
     "output_type": "display_data"
    },
    {
     "data": {
      "text/plain": [
       "array([-2.32949658, -2.23486792, -2.92781304, -2.56977261, -2.18081697,\n",
       "       -1.41245778, -1.33347904, -1.0598078 , -0.94133183, -1.32601222,\n",
       "       -1.29435623, -1.43349363, -2.01334961, -0.84327429, -2.019981  ,\n",
       "       -1.37594501, -0.80428433, -0.0096548 , -0.01696993,  0.4448755 ,\n",
       "       -0.93343829, -1.55656045, -1.48535251, -0.8736814 , -2.36792334,\n",
       "       -1.62897064, -2.06996782, -1.48683709, -1.07544931, -0.39628062,\n",
       "       -0.81036207, -1.00889202, -1.38830077, -0.24745231,  0.99919517,\n",
       "        0.71889267, -0.19572134,  0.54179463,  0.64758052, -0.68048925,\n",
       "       -0.07805679, -0.22675597,  0.57976856,  0.26986177, -0.90575574,\n",
       "       -0.39456497, -0.31134038,  0.85557967,  1.07443004, -0.27569398,\n",
       "       -1.10953604,  0.43768218,  0.24790456, -0.19024424,  0.47113238,\n",
       "        0.44349887,  0.40590955,  1.17828143,  1.26544278, -0.39577074,\n",
       "       -0.22054716, -0.44892444,  0.22023376, -0.07736427,  1.52318691,\n",
       "        1.48003977,  0.17842446, -0.32512998,  2.34125353,  0.37782239,\n",
       "        0.5563279 ,  1.66563304, -0.09595771,  0.78948589,  0.97793796,\n",
       "        0.81454663,  0.52725395,  1.27716636,  2.11949998,  1.84733609,\n",
       "        1.22235897,  1.1893881 ,  0.83408679,  0.89727125,  0.79953195,\n",
       "        1.38530267,  2.2868226 ,  0.93140009,  1.00469425,  1.72601861,\n",
       "        1.69653916,  1.55624794,  0.92393317,  0.77984447,  1.1034785 ,\n",
       "        1.73728941,  1.72485278,  2.98987335,  2.26461548,  2.23410453])"
      ]
     },
     "metadata": {},
     "output_type": "display_data"
    }
   ],
   "source": [
    "# generating random values\n",
    "X = np.linspace(-1,1,100)\n",
    "# take 0.33 for values to be less scattered\n",
    "Y = 2 * X + np.random.randn(*X.shape) * 0.710\n",
    "display(X)\n",
    "display(Y)"
   ]
  },
  {
   "cell_type": "code",
   "execution_count": 15,
   "metadata": {
    "collapsed": false
   },
   "outputs": [
    {
     "data": {
      "text/plain": [
       "<matplotlib.collections.PathCollection at 0x1185b66a0>"
      ]
     },
     "execution_count": 15,
     "metadata": {},
     "output_type": "execute_result"
    },
    {
     "data": {
      "image/png": "[encoded data removed]",
      "text/plain": [
       "<matplotlib.figure.Figure at 0x10404d320>"
      ]
     },
     "metadata": {},
     "output_type": "display_data"
    }
   ],
   "source": [
    "#defining scatter plot of the generated points\n",
    "plt.scatter(X,Y)"
   ]
  },
  {
   "cell_type": "code",
   "execution_count": 16,
   "metadata": {
    "collapsed": true
   },
   "outputs": [],
   "source": [
    "# defining placeholders to insert values at runtime\n",
    "X_input = tf.placeholder('float')\n",
    "Y_input = tf.placeholder('float')\n",
    "# defining variables\n",
    "W = tf.Variable(np.random.randn())\n",
    "b = tf.Variable(np.random.randn())"
   ]
  },
  {
   "cell_type": "code",
   "execution_count": 17,
   "metadata": {
    "collapsed": true
   },
   "outputs": [],
   "source": [
    "# basic regression stuff\n",
    "WX = tf.mul(W,X_input) + b"
   ]
  },
  {
   "cell_type": "code",
   "execution_count": 18,
   "metadata": {
    "collapsed": false
   },
   "outputs": [],
   "source": [
    "cost = tf.square(Y_input - WX)"
   ]
  },
  {
   "cell_type": "code",
   "execution_count": 19,
   "metadata": {
    "collapsed": false
   },
   "outputs": [],
   "source": [
    "#minimizing the error\n",
    "train = tf.train.GradientDescentOptimizer(0.01).minimize(cost)"
   ]
  },
  {
   "cell_type": "code",
   "execution_count": 20,
   "metadata": {
    "collapsed": false
   },
   "outputs": [],
   "source": [
    "sess = tf.InteractiveSession()"
   ]
  },
  {
   "cell_type": "code",
   "execution_count": 21,
   "metadata": {
    "collapsed": true
   },
   "outputs": [],
   "source": [
    "tf.initialize_all_variables().run()"
   ]
  },
  {
   "cell_type": "code",
   "execution_count": 22,
   "metadata": {
    "collapsed": false
   },
   "outputs": [],
   "source": [
    "#feeding values in pair\n",
    "for i in range(100):\n",
    "    for (x,y) in zip(X,Y):\n",
    "        sess.run(train, feed_dict={X_input:x, Y_input:y})"
   ]
  },
  {
   "cell_type": "code",
   "execution_count": 23,
   "metadata": {
    "collapsed": false
   },
   "outputs": [
    {
     "data": {
      "text/plain": [
       "[<matplotlib.lines.Line2D at 0x118734e48>]"
      ]
     },
     "execution_count": 23,
     "metadata": {},
     "output_type": "execute_result"
    },
    {
     "data": {
      "image/png": "[encoded data removed]",
      "text/plain": [
       "<matplotlib.figure.Figure at 0x118734d30>"
      ]
     },
     "metadata": {},
     "output_type": "display_data"
    }
   ],
   "source": [
    "plt.scatter(X,Y)\n",
    "# converting W, b from tensor to ndarray\n",
    "W = W.eval()\n",
    "b = b.eval()\n",
    "plt.plot(X,X*W+b,'r',linewidth=2)"
   ]
  },
  {
   "cell_type": "code",
   "execution_count": 24,
   "metadata": {
    "collapsed": false
   },
   "outputs": [
    {
     "name": "stdout",
     "output_type": "stream",
     "text": [
      "W 1.84644\n",
      "b 0.0596482\n"
     ]
    }
   ],
   "source": [
    "print('W',W)\n",
    "print('b',b)"
   ]
  },
  {
   "cell_type": "code",
   "execution_count": 25,
   "metadata": {
    "collapsed": false
   },
   "outputs": [],
   "source": [
    "sess.close()"
   ]
  }
 ],
 "metadata": {
  "anaconda-cloud": {},
  "kernelspec": {
   "display_name": "Python [Root]",
   "language": "python",
   "name": "Python [Root]"
  },
  "language_info": {
   "codemirror_mode": {
    "name": "ipython",
    "version": 3
   },
   "file_extension": ".py",
   "mimetype": "text/x-python",
   "name": "python",
   "nbconvert_exporter": "python",
   "pygments_lexer": "ipython3",
   "version": "3.5.2"
  }
 },
 "nbformat": 4,
 "nbformat_minor": 0
}
