{
 "cells": [
  {
   "cell_type": "markdown",
   "metadata": {},
   "source": [
    "# A Very basic introduction to TensorFlow"
   ]
  },
  {
   "cell_type": "markdown",
   "metadata": {},
   "source": [
    "**TensorFlow** is a new open source **Machine Learning** library from Google. It was released in novenber 2015 and is now one of the most popular library with 10k+ stars on github. It is used in various commercial products within google. It is successor to the **DistBelief** system craeted by the Google Brain team. It is released under Apache 2.0 open source license."
   ]
  },
  {
   "cell_type": "markdown",
   "metadata": {},
   "source": [
    "<img src=\"images/tensorflow.png\"/>"
   ]
  },
  {
   "cell_type": "markdown",
   "metadata": {},
   "source": [
    "**TensorFlow** works on the concept of **Computational Graph**. Computational Graph consists of **nodes** and **edges** and the data that flows in the graph is called a **Tensor**. Tensor is an n-dimensional array. Tensor flows through the directed edges towards nodes. Each node in the graph is an **operation node** also known as **op** for short. Each node manipulates the tensor hence known as operation node. Many Op nodes are provided by tensorflow such as **matmul( )**, **add( )**, **reshape( )** etc. Tensorflow API is available in Python and C++."
   ]
  },
  {
   "cell_type": "markdown",
   "metadata": {},
   "source": [
    "<img src=\"images/TensorFlow-graph1.jpg\"/>"
   ]
  },
  {
   "cell_type": "code",
   "execution_count": null,
   "metadata": {
    "collapsed": true
   },
   "outputs": [],
   "source": [
    "# to start with tensorflow, import tensorflow\n",
    "# numpy needed for structing data in a suitable format for tensorflow\n",
    "import tensorflow as tf\n",
    "import numpy as np"
   ]
  },
  {
   "cell_type": "markdown",
   "metadata": {},
   "source": [
    "In tensorflow every thing is an Op, from variable to matmul. Tensorflow creates a default graph. Every Op defined gets appended to this default graph.\n",
    "For a very basic problem in tensorflow, we will be doing matrix multiplication."
   ]
  },
  {
   "cell_type": "code",
   "execution_count": null,
   "metadata": {
    "collapsed": false
   },
   "outputs": [],
   "source": [
    "#define constants\n",
    "#since we are not sending data on the execution of the graph\n",
    "# no object is initailized until the tf.Session() is run\n",
    "x = tf.constant(np.array([[1,5,2,7],[6,8,9,2]]),dtype='float64')\n",
    "y = tf.constant(np.array([[2,3],[6,3],[7,0],[4,1]]),dtype='float64')"
   ]
  },
  {
   "cell_type": "code",
   "execution_count": null,
   "metadata": {
    "collapsed": false
   },
   "outputs": [],
   "source": [
    "#defining predefined matrix multiplication Op\n",
    "output = tf.matmul(x,y)"
   ]
  },
  {
   "cell_type": "markdown",
   "metadata": {},
   "source": [
    "**tf.Session** object encapsulates the environment in which Operation objects are executed, and Tensor objects are evaluated. Tensorflow graph always run inside a Session.\n",
    "But we will use **tf.InteractiveSession( )**"
   ]
  },
  {
   "cell_type": "code",
   "execution_count": null,
   "metadata": {
    "collapsed": true
   },
   "outputs": [],
   "source": [
    "#TInteractiveSession is for IPython notebooks, as it avoids having to pass an explicit Session object to run ops.\n",
    "sess = tf.InteractiveSession()\n",
    "#sess has started with the default graph"
   ]
  },
  {
   "cell_type": "code",
   "execution_count": null,
   "metadata": {
    "collapsed": false
   },
   "outputs": [],
   "source": [
    "# we use eval() or sess.run(output) with InteractiveSession\n",
    "print(output.eval())"
   ]
  },
  {
   "cell_type": "code",
   "execution_count": null,
   "metadata": {
    "collapsed": true
   },
   "outputs": [],
   "source": [
    "# close the session to free the resources\n",
    "sess.close()"
   ]
  },
  {
   "cell_type": "markdown",
   "metadata": {},
   "source": [
    "With non interactive environments we use **tf.Session( )** and instead of eval( ) we use **sess.run( )**."
   ]
  },
  {
   "cell_type": "markdown",
   "metadata": {},
   "source": [
    "Now going for a little more advance example, we will b using placeholder to input data during session."
   ]
  },
  {
   "cell_type": "code",
   "execution_count": null,
   "metadata": {
    "collapsed": false
   },
   "outputs": [],
   "source": [
    "# tf.float64 is tensorflow type to specify what type of data placeholder(X) will be expecting\n",
    "# shape is optional, determines what placeholder is expecting in terms of size of data\n",
    "x = tf.placeholder(tf.float64,shape=(5,5))\n",
    "y = tf.placeholder(tf.float64,shape=(5,5))\n",
    "bt = tf.ones_like(x,tf.float64)\n",
    "\n",
    "output = tf.add(tf.matmul(x,bt),y)"
   ]
  },
  {
   "cell_type": "code",
   "execution_count": null,
   "metadata": {
    "collapsed": false
   },
   "outputs": [],
   "source": [
    "# getting some values ready for placeholders\n",
    "x_input = np.random.normal(0,0.5,(5,5))\n",
    "y_input = np.random.normal(1,0.7,(5,5))"
   ]
  },
  {
   "cell_type": "code",
   "execution_count": null,
   "metadata": {
    "collapsed": false
   },
   "outputs": [],
   "source": [
    "# starting the session\n",
    "sess = tf.InteractiveSession()"
   ]
  },
  {
   "cell_type": "code",
   "execution_count": null,
   "metadata": {
    "collapsed": false
   },
   "outputs": [],
   "source": [
    "# we input x_input and y_input to the x and y placeholders\n",
    "sess.run(output,feed_dict={x:x_input,y:y_input})"
   ]
  },
  {
   "cell_type": "markdown",
   "metadata": {
    "collapsed": true
   },
   "source": [
    "## Linear Regression in tensorflow"
   ]
  },
  {
   "cell_type": "code",
   "execution_count": 1,
   "metadata": {
    "collapsed": true
   },
   "outputs": [],
   "source": [
    "%matplotlib inline\n",
    "from IPython.display import display\n",
    "import tensorflow as tf\n",
    "import numpy as np\n",
    "import matplotlib.pyplot as plt"
   ]
  },
  {
   "cell_type": "code",
   "execution_count": 2,
   "metadata": {
    "collapsed": false
   },
   "outputs": [
    {
     "data": {
      "text/plain": [
       "array([-1.        , -0.97979798, -0.95959596, -0.93939394, -0.91919192,\n",
       "       -0.8989899 , -0.87878788, -0.85858586, -0.83838384, -0.81818182,\n",
       "       -0.7979798 , -0.77777778, -0.75757576, -0.73737374, -0.71717172,\n",
       "       -0.6969697 , -0.67676768, -0.65656566, -0.63636364, -0.61616162,\n",
       "       -0.5959596 , -0.57575758, -0.55555556, -0.53535354, -0.51515152,\n",
       "       -0.49494949, -0.47474747, -0.45454545, -0.43434343, -0.41414141,\n",
       "       -0.39393939, -0.37373737, -0.35353535, -0.33333333, -0.31313131,\n",
       "       -0.29292929, -0.27272727, -0.25252525, -0.23232323, -0.21212121,\n",
       "       -0.19191919, -0.17171717, -0.15151515, -0.13131313, -0.11111111,\n",
       "       -0.09090909, -0.07070707, -0.05050505, -0.03030303, -0.01010101,\n",
       "        0.01010101,  0.03030303,  0.05050505,  0.07070707,  0.09090909,\n",
       "        0.11111111,  0.13131313,  0.15151515,  0.17171717,  0.19191919,\n",
       "        0.21212121,  0.23232323,  0.25252525,  0.27272727,  0.29292929,\n",
       "        0.31313131,  0.33333333,  0.35353535,  0.37373737,  0.39393939,\n",
       "        0.41414141,  0.43434343,  0.45454545,  0.47474747,  0.49494949,\n",
       "        0.51515152,  0.53535354,  0.55555556,  0.57575758,  0.5959596 ,\n",
       "        0.61616162,  0.63636364,  0.65656566,  0.67676768,  0.6969697 ,\n",
       "        0.71717172,  0.73737374,  0.75757576,  0.77777778,  0.7979798 ,\n",
       "        0.81818182,  0.83838384,  0.85858586,  0.87878788,  0.8989899 ,\n",
       "        0.91919192,  0.93939394,  0.95959596,  0.97979798,  1.        ])"
      ]
     },
     "metadata": {},
     "output_type": "display_data"
    },
    {
     "data": {
      "text/plain": [
       "array([-1.98283291, -2.34280709, -2.13734643, -1.68201045, -1.52761846,\n",
       "       -1.40931645, -1.08917933, -1.43476338, -1.66901485, -1.36522149,\n",
       "       -1.47919862, -1.52080687, -0.95401396, -1.23404546, -1.30229656,\n",
       "       -1.26946671, -1.25193982, -1.69460565, -0.94354323, -1.67150279,\n",
       "       -1.55355568, -0.83223334, -0.83377849, -1.08485916, -1.34389124,\n",
       "       -1.02664341, -0.82888355, -0.44648213, -1.01389984, -0.47205636,\n",
       "       -1.10857134, -0.6829977 , -0.73380919, -0.69202898, -0.59548772,\n",
       "       -0.15451463, -0.39997597, -0.35410912, -0.39103993, -0.33003199,\n",
       "       -0.17852761, -0.86474763, -0.66497953, -0.79209156, -0.53018976,\n",
       "        0.20185977, -0.03179097,  0.32829657, -0.02574404,  0.09092627,\n",
       "       -0.3723522 ,  0.49940792,  0.40817661,  0.36332247, -0.17229884,\n",
       "        0.28121086,  0.15033128, -0.04282678,  0.36946754,  0.47807451,\n",
       "        0.36509045,  0.48135715,  0.74877889,  0.26041079,  0.48056938,\n",
       "        0.55442647,  0.59605971,  0.61320531,  0.68265149,  0.08691124,\n",
       "        0.27431268,  0.55016989,  0.95507475,  1.40522999,  1.36610752,\n",
       "        1.43825974,  1.37179674,  1.47285282,  0.79851057,  1.06758401,\n",
       "        0.98186842,  1.34188672,  1.70470142,  1.08129281,  1.36647993,\n",
       "        1.36396704,  1.52344263,  1.10042655,  0.95963367,  1.00715054,\n",
       "        1.9869012 ,  2.04632258,  1.72481438,  1.80721143,  2.06771661,\n",
       "        1.75571925,  1.99407225,  1.74125336,  2.00825143,  1.80765673])"
      ]
     },
     "metadata": {},
     "output_type": "display_data"
    }
   ],
   "source": [
    "X = np.linspace(-1,1,100)\n",
    "Y = 2 * X + np.random.randn(*X.shape) * 0.33\n",
    "display(X)\n",
    "display(Y)"
   ]
  },
  {
   "cell_type": "code",
   "execution_count": 3,
   "metadata": {
    "collapsed": false
   },
   "outputs": [
    {
     "data": {
      "text/plain": [
       "<matplotlib.collections.PathCollection at 0x118c54b70>"
      ]
     },
     "execution_count": 3,
     "metadata": {},
     "output_type": "execute_result"
    },
    {
     "data": {
      "image/png": "[encoded data removed]",
      "text/plain": [
       "<matplotlib.figure.Figure at 0x1041348d0>"
      ]
     },
     "metadata": {},
     "output_type": "display_data"
    }
   ],
   "source": [
    "plt.scatter(X,Y)"
   ]
  },
  {
   "cell_type": "code",
   "execution_count": 4,
   "metadata": {
    "collapsed": true
   },
   "outputs": [],
   "source": [
    "X_input = tf.placeholder('float')\n",
    "Y_input = tf.placeholder('float')\n",
    "W = tf.Variable(np.random.randn())\n",
    "b = tf.Variable(np.random.randn())"
   ]
  },
  {
   "cell_type": "code",
   "execution_count": 5,
   "metadata": {
    "collapsed": true
   },
   "outputs": [],
   "source": [
    "WX = tf.mul(W,X_input) + b"
   ]
  },
  {
   "cell_type": "code",
   "execution_count": 6,
   "metadata": {
    "collapsed": false
   },
   "outputs": [],
   "source": [
    "cost = tf.square(Y_input - WX)"
   ]
  },
  {
   "cell_type": "code",
   "execution_count": 7,
   "metadata": {
    "collapsed": false
   },
   "outputs": [],
   "source": [
    "train = tf.train.GradientDescentOptimizer(0.01).minimize(cost)"
   ]
  },
  {
   "cell_type": "code",
   "execution_count": 8,
   "metadata": {
    "collapsed": false
   },
   "outputs": [],
   "source": [
    "sess = tf.InteractiveSession()"
   ]
  },
  {
   "cell_type": "code",
   "execution_count": 9,
   "metadata": {
    "collapsed": true
   },
   "outputs": [],
   "source": [
    "tf.initialize_all_variables().run()"
   ]
  },
  {
   "cell_type": "code",
   "execution_count": 10,
   "metadata": {
    "collapsed": false
   },
   "outputs": [],
   "source": [
    "for i in range(100):\n",
    "    for (x,y) in zip(X,Y):\n",
    "        sess.run(train, feed_dict={X_input:x, Y_input:y})"
   ]
  },
  {
   "cell_type": "code",
   "execution_count": 23,
   "metadata": {
    "collapsed": false
   },
   "outputs": [
    {
     "data": {
      "text/plain": [
       "[<matplotlib.lines.Line2D at 0x11a918dd8>]"
      ]
     },
     "execution_count": 23,
     "metadata": {},
     "output_type": "execute_result"
    },
    {
     "data": {
      "image/png": "[encoded data removed]",
      "text/plain": [
       "<matplotlib.figure.Figure at 0x11a918da0>"
      ]
     },
     "metadata": {},
     "output_type": "display_data"
    }
   ],
   "source": [
    "plt.scatter(X,Y)\n",
    "#W = W.eval()\n",
    "#b = b.eval()\n",
    "plt.plot(X,X*W+b,'r',linewidth=2)"
   ]
  },
  {
   "cell_type": "code",
   "execution_count": 27,
   "metadata": {
    "collapsed": false
   },
   "outputs": [
    {
     "name": "stdout",
     "output_type": "stream",
     "text": [
      "W 1.92525\n",
      "b 0.0159235\n"
     ]
    }
   ],
   "source": [
    "#print('training cost',cost.eval())\n",
    "print('W',W)\n",
    "print('b',b)"
   ]
  },
  {
   "cell_type": "code",
   "execution_count": 28,
   "metadata": {
    "collapsed": true
   },
   "outputs": [],
   "source": [
    "sess.close()"
   ]
  },
  {
   "cell_type": "code",
   "execution_count": null,
   "metadata": {
    "collapsed": true
   },
   "outputs": [],
   "source": []
  }
 ],
 "metadata": {
  "anaconda-cloud": {},
  "kernelspec": {
   "display_name": "Python [Root]",
   "language": "python",
   "name": "Python [Root]"
  },
  "language_info": {
   "codemirror_mode": {
    "name": "ipython",
    "version": 3
   },
   "file_extension": ".py",
   "mimetype": "text/x-python",
   "name": "python",
   "nbconvert_exporter": "python",
   "pygments_lexer": "ipython3",
   "version": "3.5.2"
  }
 },
 "nbformat": 4,
 "nbformat_minor": 0
}
