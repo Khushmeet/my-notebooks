{
 "cells": [
  {
   "cell_type": "markdown",
   "metadata": {},
   "source": [
    "# A Very basic introduction to TensorFlow"
   ]
  },
  {
   "cell_type": "markdown",
   "metadata": {},
   "source": [
    "**TensorFlow** is a new open source **Machine Learning** library from Google. It was released in novenber 2015 and is now one of the most popular library with 10k+ stars on github. It is used in various commercial products within google. It is successor to the **DistBelief** system craeted by the Google Brain team. It is released under Apache 2.0 open source license."
   ]
  },
  {
   "cell_type": "markdown",
   "metadata": {},
   "source": [
    "<img src=\"images/tensorflow.png\"/>"
   ]
  },
  {
   "cell_type": "markdown",
   "metadata": {},
   "source": [
    "**TensorFlow** works on the concept of **Computational Graph**. Computational Graph consists of **nodes** and **edges** and the data that flows in the graph is called a **Tensor**. Tensor is an n-dimensional array. Tensor flows through the directed edges towards nodes. Each node in the graph is an **operation node** also known as **op** for short. Each node manipulates the tensor hence known as operation node. Many Op nodes are provided by tensorflow such as **matmul( )**, **add( )**, **reshape( )** etc. Tensorflow API is available in Python and C++."
   ]
  },
  {
   "cell_type": "markdown",
   "metadata": {},
   "source": [
    "<img src=\"images/TensorFlow-graph1.jpg\"/>"
   ]
  },
  {
   "cell_type": "code",
   "execution_count": 1,
   "metadata": {
    "collapsed": true
   },
   "outputs": [],
   "source": [
    "# to start with tensorflow, import tensorflow\n",
    "# numpy needed for structing data in a suitable format for tensorflow\n",
    "import tensorflow as tf\n",
    "import numpy as np"
   ]
  },
  {
   "cell_type": "markdown",
   "metadata": {},
   "source": [
    "In tensorflow every thing is an Op, from variable to matmul. Tensorflow creates a default graph. Every Op defined gets appended to this default graph.\n",
    "For a very basic problem in tensorflow, we will be doing matrix multiplication."
   ]
  },
  {
   "cell_type": "code",
   "execution_count": 2,
   "metadata": {
    "collapsed": false
   },
   "outputs": [],
   "source": [
    "#define constants\n",
    "#since we are not sending data on the execution of the graph\n",
    "# no object is initailized until the tf.Session() is run\n",
    "x = tf.constant(np.array([[1,5,2,7],[6,8,9,2]]),dtype='float64')\n",
    "y = tf.constant(np.array([[2,3],[6,3],[7,0],[4,1]]),dtype='float64')"
   ]
  },
  {
   "cell_type": "code",
   "execution_count": 3,
   "metadata": {
    "collapsed": false
   },
   "outputs": [],
   "source": [
    "#defining predefined matrix multiplication Op\n",
    "output = tf.matmul(x,y)"
   ]
  },
  {
   "cell_type": "markdown",
   "metadata": {},
   "source": [
    "**tf.Session** object encapsulates the environment in which Operation objects are executed, and Tensor objects are evaluated. Tensorflow graph always run inside a Session.\n",
    "But we will use **tf.InteractiveSession( )**"
   ]
  },
  {
   "cell_type": "code",
   "execution_count": 4,
   "metadata": {
    "collapsed": true
   },
   "outputs": [],
   "source": [
    "#TInteractiveSession is for IPython notebooks, as it avoids having to pass an explicit Session object to run ops.\n",
    "sess = tf.InteractiveSession()\n",
    "#sess has started with the default graph"
   ]
  },
  {
   "cell_type": "code",
   "execution_count": 5,
   "metadata": {
    "collapsed": false
   },
   "outputs": [
    {
     "name": "stdout",
     "output_type": "stream",
     "text": [
      "[[  74.   25.]\n",
      " [ 131.   44.]]\n"
     ]
    }
   ],
   "source": [
    "# we use eval() or sess.run(output) with InteractiveSession\n",
    "print(output.eval())"
   ]
  },
  {
   "cell_type": "code",
   "execution_count": 6,
   "metadata": {
    "collapsed": true
   },
   "outputs": [],
   "source": [
    "# close the session to free the resources\n",
    "sess.close()"
   ]
  },
  {
   "cell_type": "markdown",
   "metadata": {},
   "source": [
    "With non interactive environments we use **tf.Session( )** and instead of eval( ) we use **sess.run( )**."
   ]
  },
  {
   "cell_type": "markdown",
   "metadata": {},
   "source": [
    "Now going for a little more advance example, we will b using placeholder to input data during session."
   ]
  },
  {
   "cell_type": "code",
   "execution_count": 7,
   "metadata": {
    "collapsed": false
   },
   "outputs": [],
   "source": [
    "# tf.float64 is tensorflow type to specify what type of data placeholder(X) will be expecting\n",
    "# shape is optional, determines what placeholder is expecting in terms of size of data\n",
    "x = tf.placeholder(tf.float64,shape=(5,5))\n",
    "y = tf.placeholder(tf.float64,shape=(5,5))\n",
    "bt = tf.ones_like(x,tf.float64)\n",
    "\n",
    "output = tf.add(tf.matmul(x,bt),y)"
   ]
  },
  {
   "cell_type": "code",
   "execution_count": 12,
   "metadata": {
    "collapsed": false
   },
   "outputs": [],
   "source": [
    "# getting some values ready for placeholders\n",
    "x_input = np.random.normal(0,0.5,(5,5))\n",
    "y_input = np.random.normal(1,0.7,(5,5))"
   ]
  },
  {
   "cell_type": "code",
   "execution_count": 13,
   "metadata": {
    "collapsed": false
   },
   "outputs": [],
   "source": [
    "# starting the session\n",
    "sess = tf.InteractiveSession()"
   ]
  },
  {
   "cell_type": "code",
   "execution_count": 14,
   "metadata": {
    "collapsed": false
   },
   "outputs": [
    {
     "data": {
      "text/plain": [
       "array([[ 1.10463804,  1.87936875,  0.21137411,  1.70371126,  1.71915796],\n",
       "       [ 2.96678237,  2.13216818,  3.97557259,  2.03550551,  4.29864618],\n",
       "       [ 0.77706365,  2.33995507,  2.88707465,  2.08010309,  1.9151437 ],\n",
       "       [ 2.41760236,  2.24826286,  2.76700764,  1.62192789,  2.41364004],\n",
       "       [ 1.43860514,  2.62306846,  1.80366654,  2.49792874,  0.65902355]])"
      ]
     },
     "execution_count": 14,
     "metadata": {},
     "output_type": "execute_result"
    }
   ],
   "source": [
    "# x_input , y_input feeding\n",
    "sess.run(output,feed_dict={x:x_input,y:y_input})"
   ]
  },
  {
   "cell_type": "code",
   "execution_count": null,
   "metadata": {
    "collapsed": true
   },
   "outputs": [],
   "source": []
  }
 ],
 "metadata": {
  "anaconda-cloud": {},
  "kernelspec": {
   "display_name": "Python [Root]",
   "language": "python",
   "name": "Python [Root]"
  },
  "language_info": {
   "codemirror_mode": {
    "name": "ipython",
    "version": 3
   },
   "file_extension": ".py",
   "mimetype": "text/x-python",
   "name": "python",
   "nbconvert_exporter": "python",
   "pygments_lexer": "ipython3",
   "version": "3.5.2"
  }
 },
 "nbformat": 4,
 "nbformat_minor": 0
}
