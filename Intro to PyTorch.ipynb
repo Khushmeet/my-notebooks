{
 "cells": [
  {
   "cell_type": "markdown",
   "metadata": {},
   "source": [
    "# PyTorch\n",
    "PyTorch is a deep learning framework inspired by Torch package for Lua programming language. It is different from tensorflow in the sense that it is dynamic in nature. It leverages imperetive programming style. Graph that is written in PyTorch is built as the program is executed. Hence it is easier to debug and experiment with. Unlike tensorflow, where first the graph is built completely and is then executed. Therefore normal programming constructs like loops and if-else can be used in PyTorch. It also works well with GPUs."
   ]
  },
  {
   "cell_type": "code",
   "execution_count": 23,
   "metadata": {
    "collapsed": true
   },
   "outputs": [],
   "source": [
    "# Importing pyTorch\n",
    "import torch\n",
    "import numpy"
   ]
  },
  {
   "cell_type": "markdown",
   "metadata": {},
   "source": [
    "Next, we will construct a 5x5 matrix, uninitialized.\n",
    "\n",
    "Note, how values will be produced as they are executed, which is not the case in tensorflow. You have to create a session to run the statement."
   ]
  },
  {
   "cell_type": "code",
   "execution_count": 3,
   "metadata": {},
   "outputs": [
    {
     "data": {
      "text/plain": [
       "\n",
       " 0.0000e+00  2.0000e+00  7.4561e-24 -1.5849e+29  1.1210e-44\n",
       "-0.0000e+00  0.0000e+00  0.0000e+00  3.5873e-43  3.6013e-43\n",
       " 3.5873e-43  0.0000e+00  0.0000e+00  0.0000e+00  0.0000e+00\n",
       " 0.0000e+00  0.0000e+00  1.1614e-41  0.0000e+00  2.2369e+08\n",
       " 0.0000e+00  0.0000e+00  2.1524e-42  2.1524e-42         nan\n",
       "[torch.FloatTensor of size 5x5]"
      ]
     },
     "execution_count": 3,
     "metadata": {},
     "output_type": "execute_result"
    }
   ],
   "source": [
    "torch.Tensor(5,5)"
   ]
  },
  {
   "cell_type": "code",
   "execution_count": 6,
   "metadata": {},
   "outputs": [
    {
     "data": {
      "text/plain": [
       "\n",
       " 0.1247  0.8974  0.3160  0.7599  0.4078\n",
       " 0.2192  0.9626  0.1057  0.6818  0.2282\n",
       " 0.3754  0.3656  0.1423  0.7896  0.0591\n",
       " 0.9488  0.2701  0.6834  0.0443  0.4372\n",
       " 0.0367  0.9986  0.9319  0.7561  0.5139\n",
       "[torch.FloatTensor of size 5x5]"
      ]
     },
     "execution_count": 6,
     "metadata": {},
     "output_type": "execute_result"
    }
   ],
   "source": [
    "# Randomly initialized matrix\n",
    "tn = torch.rand(5,5)\n",
    "tn"
   ]
  },
  {
   "cell_type": "code",
   "execution_count": 9,
   "metadata": {},
   "outputs": [
    {
     "data": {
      "text/plain": [
       "torch.Size([5, 5])"
      ]
     },
     "execution_count": 9,
     "metadata": {},
     "output_type": "execute_result"
    }
   ],
   "source": [
    "# size of the tensor\n",
    "tn.size()"
   ]
  },
  {
   "cell_type": "markdown",
   "metadata": {},
   "source": [
    "For operations on matrix, we can use python constructs like `+` , `-` etc. Or we can use in-built PyTorch function like ```add()```. \n",
    "\n",
    "`add()` will create a new tensor from the resulting operations, but if we want to change the existing tensor, we can use `add_()`. Every function with `_` will have the same effect."
   ]
  },
  {
   "cell_type": "code",
   "execution_count": 15,
   "metadata": {},
   "outputs": [
    {
     "data": {
      "text/plain": [
       "\n",
       " 0.9833  0.9439  0.4676\n",
       " 0.0357  0.5186  0.6309\n",
       " 0.5392  0.9078  0.2598\n",
       "[torch.FloatTensor of size 3x3]"
      ]
     },
     "execution_count": 15,
     "metadata": {},
     "output_type": "execute_result"
    }
   ],
   "source": [
    "x = torch.rand(3,3)\n",
    "y = torch.rand(3,3)\n",
    "x"
   ]
  },
  {
   "cell_type": "code",
   "execution_count": 16,
   "metadata": {},
   "outputs": [
    {
     "data": {
      "text/plain": [
       "\n",
       " 1.6458  1.6018  1.1328\n",
       " 0.1006  0.8594  0.9580\n",
       " 1.1845  1.5981  1.2505\n",
       "[torch.FloatTensor of size 3x3]"
      ]
     },
     "execution_count": 16,
     "metadata": {},
     "output_type": "execute_result"
    }
   ],
   "source": [
    "x + y"
   ]
  },
  {
   "cell_type": "code",
   "execution_count": 17,
   "metadata": {},
   "outputs": [
    {
     "name": "stdout",
     "output_type": "stream",
     "text": [
      "\n",
      " 1.6458  1.6018  1.1328\n",
      " 0.1006  0.8594  0.9580\n",
      " 1.1845  1.5981  1.2505\n",
      "[torch.FloatTensor of size 3x3]\n",
      "\n"
     ]
    }
   ],
   "source": [
    "# OR\n",
    "result = torch.Tensor(3, 3)\n",
    "torch.add(x, y, out=result)\n",
    "print(result)"
   ]
  },
  {
   "cell_type": "code",
   "execution_count": 18,
   "metadata": {},
   "outputs": [
    {
     "data": {
      "text/plain": [
       "\n",
       " 1.6458  1.6018  1.1328\n",
       " 0.1006  0.8594  0.9580\n",
       " 1.1845  1.5981  1.2505\n",
       "[torch.FloatTensor of size 3x3]"
      ]
     },
     "execution_count": 18,
     "metadata": {},
     "output_type": "execute_result"
    }
   ],
   "source": [
    "x.add_(y)"
   ]
  },
  {
   "cell_type": "code",
   "execution_count": 19,
   "metadata": {},
   "outputs": [
    {
     "data": {
      "text/plain": [
       "\n",
       " 1.6458  1.6018  1.1328\n",
       " 0.1006  0.8594  0.9580\n",
       " 1.1845  1.5981  1.2505\n",
       "[torch.FloatTensor of size 3x3]"
      ]
     },
     "execution_count": 19,
     "metadata": {},
     "output_type": "execute_result"
    }
   ],
   "source": [
    "# x is changed\n",
    "x"
   ]
  },
  {
   "cell_type": "markdown",
   "metadata": {},
   "source": [
    "Standard numpy like indexing"
   ]
  },
  {
   "cell_type": "code",
   "execution_count": 21,
   "metadata": {},
   "outputs": [
    {
     "data": {
      "text/plain": [
       "\n",
       " 1.1328\n",
       " 0.9580\n",
       " 1.2505\n",
       "[torch.FloatTensor of size 3]"
      ]
     },
     "execution_count": 21,
     "metadata": {},
     "output_type": "execute_result"
    }
   ],
   "source": [
    "# gives column 2\n",
    "x[:,2]"
   ]
  },
  {
   "cell_type": "markdown",
   "metadata": {},
   "source": [
    "Torch tensor to numpy array"
   ]
  },
  {
   "cell_type": "code",
   "execution_count": 22,
   "metadata": {},
   "outputs": [
    {
     "data": {
      "text/plain": [
       "array([[ 0.66249287,  0.65790075,  0.66524035],\n",
       "       [ 0.06490449,  0.34088728,  0.32715869],\n",
       "       [ 0.6452325 ,  0.69030625,  0.990767  ]], dtype=float32)"
      ]
     },
     "execution_count": 22,
     "metadata": {},
     "output_type": "execute_result"
    }
   ],
   "source": [
    "y.numpy()"
   ]
  },
  {
   "cell_type": "code",
   "execution_count": 26,
   "metadata": {},
   "outputs": [
    {
     "data": {
      "text/plain": [
       "\n",
       " 0.7770  0.6847  0.7778  0.7137\n",
       " 0.7615  0.6350  0.7202  0.9469\n",
       " 0.2283  0.0376  0.3781  0.7265\n",
       "[torch.DoubleTensor of size 3x4]"
      ]
     },
     "execution_count": 26,
     "metadata": {},
     "output_type": "execute_result"
    }
   ],
   "source": [
    "# reverse\n",
    "np = numpy.random.rand(3,4)\n",
    "torch.from_numpy(np)"
   ]
  },
  {
   "cell_type": "markdown",
   "metadata": {},
   "source": [
    "Central to all neural networks in PyTorch is the autograd package. Let’s first briefly visit this, and we will then go to training our first neural network.\n",
    "\n",
    "The autograd package provides automatic differentiation for all operations on Tensors. It is a define-by-run framework, which means that your backprop is defined by how your code is run, and that every single iteration can be different."
   ]
  },
  {
   "cell_type": "code",
   "execution_count": null,
   "metadata": {
    "collapsed": true
   },
   "outputs": [],
   "source": []
  }
 ],
 "metadata": {
  "kernelspec": {
   "display_name": "Python 3",
   "language": "python",
   "name": "python3"
  },
  "language_info": {
   "codemirror_mode": {
    "name": "ipython",
    "version": 3
   },
   "file_extension": ".py",
   "mimetype": "text/x-python",
   "name": "python",
   "nbconvert_exporter": "python",
   "pygments_lexer": "ipython3",
   "version": "3.6.0"
  }
 },
 "nbformat": 4,
 "nbformat_minor": 2
}
